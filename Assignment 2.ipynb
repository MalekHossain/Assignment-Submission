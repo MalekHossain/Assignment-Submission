{
 "cells": [
  {
   "cell_type": "code",
   "execution_count": null,
   "metadata": {},
   "outputs": [],
   "source": [
    "l=[]\n",
    "for i in range(10):\n",
    "    inp=int(input())\n",
    "    if inp%2 == 0:\n",
    "        l.append(inp)\n",
    "print(l)"
   ]
  },
  {
   "cell_type": "code",
   "execution_count": null,
   "metadata": {},
   "outputs": [],
   "source": [
    "n=int(input())\n",
    "dictn={1:1}\n",
    "i=2\n",
    "while i<=n:\n",
    "    a=i*i\n",
    "    dictn[i]=a\n",
    "print(dictn)"
   ]
  },
  {
   "cell_type": "code",
   "execution_count": null,
   "metadata": {},
   "outputs": [],
   "source": [
    "x=0\n",
    "y=0\n",
    "n=int(input())\n",
    "for i in range(n):\n",
    "    st=input()\n",
    "    m=int(input())\n",
    "    if st==\"UP\":\n",
    "        y=y+m\n",
    "    elif st==\"DOWN\":\n",
    "        y=y-m\n",
    "    elif st==\"RIGHT\":\n",
    "        x=x+m\n",
    "    else:\n",
    "        x=x-m\n",
    "dist=round( ((0-x)**2)+((0-y)**2))**(1/2)\n",
    "print(dist)"
   ]
  }
 ],
 "metadata": {
  "kernelspec": {
   "display_name": "Python 3",
   "language": "python",
   "name": "python3"
  }
 },
 "nbformat": 4,
 "nbformat_minor": 4
}
